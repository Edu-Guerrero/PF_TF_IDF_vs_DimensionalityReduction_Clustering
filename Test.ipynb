{
  "nbformat": 4,
  "nbformat_minor": 0,
  "metadata": {
    "colab": {
      "provenance": [],
      "toc_visible": true
    },
    "kernelspec": {
      "name": "python3",
      "display_name": "Python 3"
    },
    "language_info": {
      "name": "python"
    }
  },
  "cells": [
    {
      "cell_type": "markdown",
      "source": [
        "# Tf_idf #"
      ],
      "metadata": {
        "id": "KetaifaQrUAr"
      }
    },
    {
      "cell_type": "code",
      "execution_count": 2,
      "metadata": {
        "id": "MJ46EHJ_maZg"
      },
      "outputs": [],
      "source": [
        "# prompt: read and save two csv files as df\n",
        "\n",
        "import pandas as pd\n",
        "\n",
        "documentos = pd.read_csv(\"/content/tf_idf_documentos.csv\") #replace file1.csv with your actual file name\n",
        "queries = pd.read_csv(\"/content/queries_vector.csv\") #replace file2.csv with your actual file name"
      ]
    },
    {
      "cell_type": "code",
      "source": [
        "import pandas as pd\n",
        "from sklearn.metrics.pairwise import cosine_similarity\n",
        "\n",
        "def compute_cosine_similarity(query_vector, document_vectors):\n",
        "    \"\"\"\n",
        "    Computes cosine similarity between a single query vector and all document vectors.\n",
        "\n",
        "    Args:\n",
        "        query_vector (list or array): A single query vector.\n",
        "        document_vectors (array): Matrix of document vectors.\n",
        "\n",
        "    Returns:\n",
        "        list: Cosine similarity scores between the query and each document.\n",
        "    \"\"\"\n",
        "    query_vector = query_vector.reshape(1, -1)  # Reshape for compatibility\n",
        "    similarities = cosine_similarity(query_vector, document_vectors)\n",
        "    return similarities[0]  # Extract the scores as a flat list"
      ],
      "metadata": {
        "id": "pcG3Upaxtp6n"
      },
      "execution_count": 3,
      "outputs": []
    },
    {
      "cell_type": "markdown",
      "source": [
        "## Cosine ##"
      ],
      "metadata": {
        "id": "FRVA7ZS_Cho3"
      }
    },
    {
      "cell_type": "code",
      "source": [
        "# Extract document vectors (numeric columns only)\n",
        "document_vectors = documentos.iloc[:, 1:].values  # Adjust indices as needed\n",
        "\n",
        "# Example: Compute similarity for one query row\n",
        "query_row_index = 0  # Index of the query to process\n",
        "query_vector = queries.iloc[query_row_index, 1:].values  # Extract a single query vector\n",
        "similarity_scores = compute_cosine_similarity(query_vector, document_vectors)\n",
        "\n",
        "# Map the results back to document identifiers\n",
        "document_ids = documentos.iloc[:, 0]  # Assuming the first column contains document identifiers\n",
        "results = pd.DataFrame({\n",
        "    'Document ID': document_ids,\n",
        "    'Similarity Score': similarity_scores\n",
        "})\n",
        "\n",
        "# Display the top 5 matches\n",
        "top_matches = results.nlargest(5, 'Similarity Score')\n",
        "print(top_matches)"
      ],
      "metadata": {
        "colab": {
          "base_uri": "https://localhost:8080/"
        },
        "id": "BCUdhRmavJLV",
        "outputId": "3bb6433f-5625-4de5-8b77-b0acf08f76ab"
      },
      "execution_count": 4,
      "outputs": [
        {
          "output_type": "stream",
          "name": "stdout",
          "text": [
            "                                Document ID  Similarity Score\n",
            "124  145_Programacion_Para_Diseño_3.txt.txt          0.305506\n",
            "60   53_Conceptos_y_Tecnicas_2_+PRA.txt.txt          0.291296\n",
            "84          61_Alta_Cocina_Francesa.txt.txt          0.277918\n",
            "12           65_Alta_Cocina_Mundial.txt.txt          0.260186\n",
            "165  144_Programacion_Para_Diseño_2.txt.txt          0.249085\n"
          ]
        }
      ]
    },
    {
      "cell_type": "code",
      "source": [
        "# Example: Compute similarity for one query row\n",
        "query_row_index = 1  # Index of the query to process\n",
        "query_vector = queries.iloc[query_row_index, 1:].values  # Extract a single query vector\n",
        "similarity_scores = compute_cosine_similarity(query_vector, document_vectors)\n",
        "\n",
        "# Map the results back to document identifiers\n",
        "document_ids = documentos.iloc[:, 0]  # Assuming the first column contains document identifiers\n",
        "results = pd.DataFrame({\n",
        "    'Document ID': document_ids,\n",
        "    'Similarity Score': similarity_scores\n",
        "})\n",
        "\n",
        "# Display the top 5 matches\n",
        "top_matches = results.nlargest(5, 'Similarity Score')\n",
        "print(top_matches)"
      ],
      "metadata": {
        "colab": {
          "base_uri": "https://localhost:8080/"
        },
        "id": "j0-c85K4v1H9",
        "outputId": "f7270541-0505-43b9-db4d-03e8eabd5689"
      },
      "execution_count": 5,
      "outputs": [
        {
          "output_type": "stream",
          "name": "stdout",
          "text": [
            "                             Document ID  Similarity Score\n",
            "159              172_Composicion.txt.txt          0.240568\n",
            "174           177_Cinematografia.txt.txt          0.176312\n",
            "80             12_Ingles_Nivel_3.txt.txt          0.149912\n",
            "13   110_Creatividad_Empresarial.txt.txt          0.148795\n",
            "25      119_Composicion_Visual_1.txt.txt          0.134833\n"
          ]
        }
      ]
    },
    {
      "cell_type": "code",
      "source": [
        "# Example: Compute similarity for one query row\n",
        "query_row_index = 2  # Index of the query to process\n",
        "query_vector = queries.iloc[query_row_index, 1:].values  # Extract a single query vector\n",
        "similarity_scores = compute_cosine_similarity(query_vector, document_vectors)\n",
        "\n",
        "# Map the results back to document identifiers\n",
        "document_ids = documentos.iloc[:, 0]  # Assuming the first column contains document identifiers\n",
        "results = pd.DataFrame({\n",
        "    'Document ID': document_ids,\n",
        "    'Similarity Score': similarity_scores\n",
        "})\n",
        "\n",
        "# Display the top 5 matches\n",
        "top_matches = results.nlargest(5, 'Similarity Score')\n",
        "print(top_matches)"
      ],
      "metadata": {
        "colab": {
          "base_uri": "https://localhost:8080/"
        },
        "id": "8HbtofVjv7XE",
        "outputId": "bf596133-3d27-4a2e-b027-91361ddd81fc"
      },
      "execution_count": 6,
      "outputs": [
        {
          "output_type": "stream",
          "name": "stdout",
          "text": [
            "                                 Document ID  Similarity Score\n",
            "173                19_Ingles_Nivel_5.txt.txt          0.226367\n",
            "104  75_Planificacion_y_Evaluacion_1.txt.txt          0.184556\n",
            "79                     93_Practica_4.txt.txt          0.139695\n",
            "87                   86_Bilingualism.txt.txt          0.139364\n",
            "11                  7_Ingles_Nivel_2.txt.txt          0.136379\n"
          ]
        }
      ]
    },
    {
      "cell_type": "code",
      "source": [
        "# Example: Compute similarity for one query row\n",
        "query_row_index = 3  # Index of the query to process\n",
        "query_vector = queries.iloc[query_row_index, 1:].values  # Extract a single query vector\n",
        "similarity_scores = compute_cosine_similarity(query_vector, document_vectors)\n",
        "\n",
        "# Map the results back to document identifiers\n",
        "document_ids = documentos.iloc[:, 0]  # Assuming the first column contains document identifiers\n",
        "results = pd.DataFrame({\n",
        "    'Document ID': document_ids,\n",
        "    'Similarity Score': similarity_scores\n",
        "})\n",
        "\n",
        "# Display the top 5 matches\n",
        "top_matches = results.nlargest(5, 'Similarity Score')\n",
        "print(top_matches)"
      ],
      "metadata": {
        "colab": {
          "base_uri": "https://localhost:8080/"
        },
        "id": "SghHx0yOv9xM",
        "outputId": "5baa2a3a-c3a6-4e70-9298-a63432fa5cc7"
      },
      "execution_count": 7,
      "outputs": [
        {
          "output_type": "stream",
          "name": "stdout",
          "text": [
            "                                 Document ID  Similarity Score\n",
            "5         34_Inteligencia_Artificial.txt.txt          0.200703\n",
            "2                  32_Emprendimiento.txt.txt          0.181094\n",
            "8   89_Ensenanza_Integrada_de_CITIAM.txt.txt          0.172648\n",
            "33                 125_Nuevos_Medios.txt.txt          0.138470\n",
            "13       110_Creatividad_Empresarial.txt.txt          0.113711\n"
          ]
        }
      ]
    },
    {
      "cell_type": "code",
      "source": [
        "# Example: Compute similarity for one query row\n",
        "query_row_index = 4  # Index of the query to process\n",
        "query_vector = queries.iloc[query_row_index, 1:].values  # Extract a single query vector\n",
        "similarity_scores = compute_cosine_similarity(query_vector, document_vectors)\n",
        "\n",
        "# Map the results back to document identifiers\n",
        "document_ids = documentos.iloc[:, 0]  # Assuming the first column contains document identifiers\n",
        "results = pd.DataFrame({\n",
        "    'Document ID': document_ids,\n",
        "    'Similarity Score': similarity_scores\n",
        "})\n",
        "\n",
        "# Display the top 5 matches\n",
        "top_matches = results.nlargest(5, 'Similarity Score')\n",
        "print(top_matches)"
      ],
      "metadata": {
        "colab": {
          "base_uri": "https://localhost:8080/"
        },
        "id": "nSsDKL5vv_XU",
        "outputId": "a0620d84-fd3f-4012-b6a1-972edb6f0cb9"
      },
      "execution_count": 10,
      "outputs": [
        {
          "output_type": "stream",
          "name": "stdout",
          "text": [
            "                                  Document ID  Similarity Score\n",
            "42                85_Arte_y_Educacion.txt.txt          0.247833\n",
            "92         137_Matematicas_Cotidianas.txt.txt          0.242965\n",
            "9    155_Logica_y_Teoria_de_Conjuntos.txt.txt          0.205652\n",
            "50  135_Gestion_y_Produccion_Cultural.txt.txt          0.189135\n",
            "72        83_Ensenanza_de_Matematicas.txt.txt          0.183966\n"
          ]
        }
      ]
    },
    {
      "cell_type": "markdown",
      "source": [
        "## Manhattan ##"
      ],
      "metadata": {
        "id": "ExXCQvXCCeoq"
      }
    },
    {
      "cell_type": "code",
      "source": [
        "import pandas as pd\n",
        "from sklearn.metrics.pairwise import manhattan_distances\n",
        "\n",
        "def compute_manhattan_distance(query_vector, document_vectors):\n",
        "    \"\"\"\n",
        "    Computes Manhattan distance between a single query vector and all document vectors.\n",
        "\n",
        "    Args:\n",
        "        query_vector (list or array): A single query vector.\n",
        "        document_vectors (array): Matrix of document vectors.\n",
        "\n",
        "    Returns:\n",
        "        list: Manhattan distances between the query and each document.\n",
        "    \"\"\"\n",
        "    query_vector = query_vector.reshape(1, -1)  # Reshape for compatibility\n",
        "    distances = manhattan_distances(query_vector, document_vectors)\n",
        "    return distances[0]  # Extract the distances as a flat list"
      ],
      "metadata": {
        "id": "g_3u2WFoCSYO"
      },
      "execution_count": 13,
      "outputs": []
    },
    {
      "cell_type": "code",
      "source": [
        "# Example: Compute similarity for one query row\n",
        "query_row_index = 0  # Index of the query to process\n",
        "query_vector = queries.iloc[query_row_index, 1:].values  # Extract a single query vector\n",
        "similarity_scores = compute_manhattan_distance(query_vector, document_vectors)\n",
        "\n",
        "# Map the results back to document identifiers\n",
        "document_ids = documentos.iloc[:, 0]  # Assuming the first column contains document identifiers\n",
        "results = pd.DataFrame({\n",
        "    'Document ID': document_ids,\n",
        "    'Distance': similarity_scores\n",
        "})\n",
        "\n",
        "# Display the top 5 matches\n",
        "top_matches = results.nsmallest(5, 'Distance')\n",
        "print(top_matches)"
      ],
      "metadata": {
        "colab": {
          "base_uri": "https://localhost:8080/"
        },
        "id": "zmBRyX27DEqp",
        "outputId": "76bac7a8-80bf-4e8e-bad6-43a8d45b2103"
      },
      "execution_count": 17,
      "outputs": [
        {
          "output_type": "stream",
          "name": "stdout",
          "text": [
            "                                Document ID  Distance\n",
            "115   121_Dibujo_para_Arte_y_Diseno.txt.txt  5.322414\n",
            "181            139_Taller_de_Arte_3.txt.txt  5.542596\n",
            "70     117_Herramientas_Digitales_1.txt.txt  5.734982\n",
            "124  145_Programacion_Para_Diseño_3.txt.txt  5.742723\n",
            "54    127_Laboratorio_de_Creacion_2.txt.txt  5.775318\n"
          ]
        }
      ]
    },
    {
      "cell_type": "code",
      "source": [
        "# Example: Compute similarity for one query row\n",
        "query_row_index = 1  # Index of the query to process\n",
        "query_vector = queries.iloc[query_row_index, 1:].values  # Extract a single query vector\n",
        "similarity_scores = compute_manhattan_distance(query_vector, document_vectors)\n",
        "\n",
        "# Map the results back to document identifiers\n",
        "document_ids = documentos.iloc[:, 0]  # Assuming the first column contains document identifiers\n",
        "results = pd.DataFrame({\n",
        "    'Document ID': document_ids,\n",
        "    'Distance': similarity_scores\n",
        "})\n",
        "\n",
        "# Display the top 5 matches\n",
        "top_matches = results.nsmallest(5, 'Distance')\n",
        "print(top_matches)"
      ],
      "metadata": {
        "colab": {
          "base_uri": "https://localhost:8080/"
        },
        "id": "yk2RbzqGDlCc",
        "outputId": "04b493b8-9e8c-4954-e1e9-7d290128f04b"
      },
      "execution_count": 18,
      "outputs": [
        {
          "output_type": "stream",
          "name": "stdout",
          "text": [
            "                          Document ID  Distance\n",
            "25   119_Composicion_Visual_1.txt.txt  4.861984\n",
            "159           172_Composicion.txt.txt  5.474250\n",
            "46              138_Enfasis_3.txt.txt  5.565673\n",
            "162          122_Fotografia_1.txt.txt  5.575615\n",
            "122             132_Enfasis_1.txt.txt  5.612300\n"
          ]
        }
      ]
    },
    {
      "cell_type": "code",
      "source": [
        "# Example: Compute similarity for one query row\n",
        "query_row_index = 2  # Index of the query to process\n",
        "query_vector = queries.iloc[query_row_index, 1:].values  # Extract a single query vector\n",
        "similarity_scores = compute_manhattan_distance(query_vector, document_vectors)\n",
        "\n",
        "# Map the results back to document identifiers\n",
        "document_ids = documentos.iloc[:, 0]  # Assuming the first column contains document identifiers\n",
        "results = pd.DataFrame({\n",
        "    'Document ID': document_ids,\n",
        "    'Distance': similarity_scores\n",
        "})\n",
        "\n",
        "# Display the top 5 matches\n",
        "top_matches = results.nsmallest(5, 'Distance')\n",
        "print(top_matches)"
      ],
      "metadata": {
        "colab": {
          "base_uri": "https://localhost:8080/"
        },
        "id": "lHojQJYwDlyt",
        "outputId": "3560e857-2cbe-4d0a-b2b1-7cf992a48286"
      },
      "execution_count": 19,
      "outputs": [
        {
          "output_type": "stream",
          "name": "stdout",
          "text": [
            "                              Document ID  Distance\n",
            "108       108_Economia_y_Negocios.txt.txt  5.324631\n",
            "25       119_Composicion_Visual_1.txt.txt  5.523252\n",
            "21   116_Analisis_Estrategico_ADM.txt.txt  5.603193\n",
            "46                  138_Enfasis_3.txt.txt  5.714015\n",
            "122                 132_Enfasis_1.txt.txt  5.755921\n"
          ]
        }
      ]
    },
    {
      "cell_type": "code",
      "source": [
        "# Example: Compute similarity for one query row\n",
        "query_row_index = 3  # Index of the query to process\n",
        "query_vector = queries.iloc[query_row_index, 1:].values  # Extract a single query vector\n",
        "similarity_scores = compute_manhattan_distance(query_vector, document_vectors)\n",
        "\n",
        "# Map the results back to document identifiers\n",
        "document_ids = documentos.iloc[:, 0]  # Assuming the first column contains document identifiers\n",
        "results = pd.DataFrame({\n",
        "    'Document ID': document_ids,\n",
        "    'Distance': similarity_scores\n",
        "})\n",
        "\n",
        "# Display the top 5 matches\n",
        "top_matches = results.nsmallest(5, 'Distance')\n",
        "print(top_matches)"
      ],
      "metadata": {
        "colab": {
          "base_uri": "https://localhost:8080/"
        },
        "id": "3hSfdDAsDpS9",
        "outputId": "9a2279f3-888b-414c-b2b8-5e7de2794fe3"
      },
      "execution_count": 20,
      "outputs": [
        {
          "output_type": "stream",
          "name": "stdout",
          "text": [
            "                                  Document ID  Distance\n",
            "108           108_Economia_y_Negocios.txt.txt  5.396669\n",
            "33                  125_Nuevos_Medios.txt.txt  5.419515\n",
            "137  114_Innovacion_y_Sustentabilidad.txt.txt  5.528933\n",
            "25           119_Composicion_Visual_1.txt.txt  5.559551\n",
            "65       118_Fundamentos_de_las_Artes.txt.txt  5.705871\n"
          ]
        }
      ]
    },
    {
      "cell_type": "code",
      "source": [
        "# Example: Compute similarity for one query row\n",
        "query_row_index = 4  # Index of the query to process\n",
        "query_vector = queries.iloc[query_row_index, 1:].values  # Extract a single query vector\n",
        "similarity_scores = compute_manhattan_distance(query_vector, document_vectors)\n",
        "\n",
        "# Map the results back to document identifiers\n",
        "document_ids = documentos.iloc[:, 0]  # Assuming the first column contains document identifiers\n",
        "results = pd.DataFrame({\n",
        "    'Document ID': document_ids,\n",
        "    'Distance': similarity_scores\n",
        "})\n",
        "\n",
        "# Display the top 5 matches\n",
        "top_matches = results.nsmallest(5, 'Distance')\n",
        "print(top_matches)"
      ],
      "metadata": {
        "colab": {
          "base_uri": "https://localhost:8080/"
        },
        "id": "FR8_99ztDquZ",
        "outputId": "895e7f3b-4dfc-4ea9-a18c-30f6246c82c9"
      },
      "execution_count": 21,
      "outputs": [
        {
          "output_type": "stream",
          "name": "stdout",
          "text": [
            "                                    Document ID  Distance\n",
            "92           137_Matematicas_Cotidianas.txt.txt  5.247724\n",
            "50    135_Gestion_y_Produccion_Cultural.txt.txt  5.826871\n",
            "27           130_Arte_y_Contexto_Social.txt.txt  5.934982\n",
            "9      155_Logica_y_Teoria_de_Conjuntos.txt.txt  5.937596\n",
            "184  124_Teoria_Critica_1__Arte_&_Media.txt.txt  6.075811\n"
          ]
        }
      ]
    },
    {
      "cell_type": "markdown",
      "source": [
        "# Tf_idf_2 #"
      ],
      "metadata": {
        "id": "Dpr6acARD5it"
      }
    },
    {
      "cell_type": "code",
      "source": [
        "# prompt: read and save two csv files as df\n",
        "\n",
        "import pandas as pd\n",
        "\n",
        "documentos = pd.read_csv(\"/content/tf_idf_documentos_2.csv\") #replace file1.csv with your actual file name\n",
        "queries = pd.read_csv(\"/content/queries_vector_2.csv\") #replace file2.csv with your actual file name"
      ],
      "metadata": {
        "id": "WP7wesp3D-qf"
      },
      "execution_count": 22,
      "outputs": []
    },
    {
      "cell_type": "markdown",
      "source": [
        "## Cosine ##"
      ],
      "metadata": {
        "id": "dokZ35_3EEUI"
      }
    },
    {
      "cell_type": "code",
      "source": [
        "# Extract document vectors (numeric columns only)\n",
        "document_vectors = documentos.iloc[:, 1:].values  # Adjust indices as needed\n",
        "\n",
        "# Example: Compute similarity for one query row\n",
        "query_row_index = 0  # Index of the query to process\n",
        "query_vector = queries.iloc[query_row_index, 1:].values  # Extract a single query vector\n",
        "similarity_scores = compute_cosine_similarity(query_vector, document_vectors)\n",
        "\n",
        "# Map the results back to document identifiers\n",
        "document_ids = documentos.iloc[:, 0]  # Assuming the first column contains document identifiers\n",
        "results = pd.DataFrame({\n",
        "    'Document ID': document_ids,\n",
        "    'Similarity Score': similarity_scores\n",
        "})\n",
        "\n",
        "# Display the top 5 matches\n",
        "top_matches = results.nlargest(5, 'Similarity Score')\n",
        "print(top_matches)"
      ],
      "metadata": {
        "colab": {
          "base_uri": "https://localhost:8080/"
        },
        "id": "4MYG858jEEC-",
        "outputId": "6043f7f4-50bb-4650-cca6-8a5abb080b44"
      },
      "execution_count": 23,
      "outputs": [
        {
          "output_type": "stream",
          "name": "stdout",
          "text": [
            "                                Document ID  Similarity Score\n",
            "124  145_Programacion_Para_Diseño_3.txt.txt          0.256531\n",
            "60   53_Conceptos_y_Tecnicas_2_+PRA.txt.txt          0.248662\n",
            "84          61_Alta_Cocina_Francesa.txt.txt          0.238500\n",
            "48          64_Practica_Culinaria_2.txt.txt          0.220837\n",
            "12           65_Alta_Cocina_Mundial.txt.txt          0.220181\n"
          ]
        }
      ]
    },
    {
      "cell_type": "code",
      "source": [
        "# Example: Compute similarity for one query row\n",
        "query_row_index = 1  # Index of the query to process\n",
        "query_vector = queries.iloc[query_row_index, 1:].values  # Extract a single query vector\n",
        "similarity_scores = compute_cosine_similarity(query_vector, document_vectors)\n",
        "\n",
        "# Map the results back to document identifiers\n",
        "document_ids = documentos.iloc[:, 0]  # Assuming the first column contains document identifiers\n",
        "results = pd.DataFrame({\n",
        "    'Document ID': document_ids,\n",
        "    'Similarity Score': similarity_scores\n",
        "})\n",
        "\n",
        "# Display the top 5 matches\n",
        "top_matches = results.nlargest(5, 'Similarity Score')\n",
        "print(top_matches)"
      ],
      "metadata": {
        "colab": {
          "base_uri": "https://localhost:8080/"
        },
        "id": "BhXK09C8EIQr",
        "outputId": "25e296dd-92b4-4e53-d1ac-27437856115a"
      },
      "execution_count": 24,
      "outputs": [
        {
          "output_type": "stream",
          "name": "stdout",
          "text": [
            "                                    Document ID  Similarity Score\n",
            "159                     172_Composicion.txt.txt          0.200436\n",
            "174                  177_Cinematografia.txt.txt          0.156409\n",
            "80                    12_Ingles_Nivel_3.txt.txt          0.130709\n",
            "25             119_Composicion_Visual_1.txt.txt          0.123547\n",
            "17   171_Barra_para_danza_contemporanea.txt.txt          0.122721\n"
          ]
        }
      ]
    },
    {
      "cell_type": "code",
      "source": [
        "# Example: Compute similarity for one query row\n",
        "query_row_index = 2  # Index of the query to process\n",
        "query_vector = queries.iloc[query_row_index, 1:].values  # Extract a single query vector\n",
        "similarity_scores = compute_cosine_similarity(query_vector, document_vectors)\n",
        "\n",
        "# Map the results back to document identifiers\n",
        "document_ids = documentos.iloc[:, 0]  # Assuming the first column contains document identifiers\n",
        "results = pd.DataFrame({\n",
        "    'Document ID': document_ids,\n",
        "    'Similarity Score': similarity_scores\n",
        "})\n",
        "\n",
        "# Display the top 5 matches\n",
        "top_matches = results.nlargest(5, 'Similarity Score')\n",
        "print(top_matches)"
      ],
      "metadata": {
        "colab": {
          "base_uri": "https://localhost:8080/"
        },
        "id": "7lkFbJdkEJB9",
        "outputId": "ff9e3b7c-cfa3-4016-cdb2-99f0e42c3779"
      },
      "execution_count": 25,
      "outputs": [
        {
          "output_type": "stream",
          "name": "stdout",
          "text": [
            "                                 Document ID  Similarity Score\n",
            "173                19_Ingles_Nivel_5.txt.txt          0.193943\n",
            "104  75_Planificacion_y_Evaluacion_1.txt.txt          0.146342\n",
            "87                   86_Bilingualism.txt.txt          0.124248\n",
            "72       83_Ensenanza_de_Matematicas.txt.txt          0.122935\n",
            "179           146_Juegos_y_Narrativa.txt.txt          0.119980\n"
          ]
        }
      ]
    },
    {
      "cell_type": "code",
      "source": [
        "# Example: Compute similarity for one query row\n",
        "query_row_index = 3  # Index of the query to process\n",
        "query_vector = queries.iloc[query_row_index, 1:].values  # Extract a single query vector\n",
        "similarity_scores = compute_cosine_similarity(query_vector, document_vectors)\n",
        "\n",
        "# Map the results back to document identifiers\n",
        "document_ids = documentos.iloc[:, 0]  # Assuming the first column contains document identifiers\n",
        "results = pd.DataFrame({\n",
        "    'Document ID': document_ids,\n",
        "    'Similarity Score': similarity_scores\n",
        "})\n",
        "\n",
        "# Display the top 5 matches\n",
        "top_matches = results.nlargest(5, 'Similarity Score')\n",
        "print(top_matches)"
      ],
      "metadata": {
        "colab": {
          "base_uri": "https://localhost:8080/"
        },
        "id": "YJg5NkreEJoi",
        "outputId": "eb0c2926-c23c-4507-809a-f18f10c68be3"
      },
      "execution_count": 26,
      "outputs": [
        {
          "output_type": "stream",
          "name": "stdout",
          "text": [
            "                                 Document ID  Similarity Score\n",
            "5         34_Inteligencia_Artificial.txt.txt          0.191562\n",
            "2                  32_Emprendimiento.txt.txt          0.187257\n",
            "8   89_Ensenanza_Integrada_de_CITIAM.txt.txt          0.154875\n",
            "33                 125_Nuevos_Medios.txt.txt          0.124553\n",
            "59  30_Programacion_Avanzada_de_Apps.txt.txt          0.114363\n"
          ]
        }
      ]
    },
    {
      "cell_type": "code",
      "source": [
        "# Example: Compute similarity for one query row\n",
        "query_row_index = 4  # Index of the query to process\n",
        "query_vector = queries.iloc[query_row_index, 1:].values  # Extract a single query vector\n",
        "similarity_scores = compute_cosine_similarity(query_vector, document_vectors)\n",
        "\n",
        "# Map the results back to document identifiers\n",
        "document_ids = documentos.iloc[:, 0]  # Assuming the first column contains document identifiers\n",
        "results = pd.DataFrame({\n",
        "    'Document ID': document_ids,\n",
        "    'Similarity Score': similarity_scores\n",
        "})\n",
        "\n",
        "# Display the top 5 matches\n",
        "top_matches = results.nlargest(5, 'Similarity Score')\n",
        "print(top_matches)"
      ],
      "metadata": {
        "colab": {
          "base_uri": "https://localhost:8080/"
        },
        "id": "9aT0msfkEKQP",
        "outputId": "3b2eda0f-3bc3-425c-95dd-c11d51f012e1"
      },
      "execution_count": 27,
      "outputs": [
        {
          "output_type": "stream",
          "name": "stdout",
          "text": [
            "                                  Document ID  Similarity Score\n",
            "92         137_Matematicas_Cotidianas.txt.txt          0.229335\n",
            "9    155_Logica_y_Teoria_de_Conjuntos.txt.txt          0.202027\n",
            "72        83_Ensenanza_de_Matematicas.txt.txt          0.173351\n",
            "42                85_Arte_y_Educacion.txt.txt          0.166353\n",
            "135     46_Matematica_Empresarial_+Ej.txt.txt          0.164999\n"
          ]
        }
      ]
    },
    {
      "cell_type": "markdown",
      "source": [
        "## Manhattan ##"
      ],
      "metadata": {
        "id": "8cHJTJMAETxW"
      }
    },
    {
      "cell_type": "code",
      "source": [
        "# Example: Compute similarity for one query row\n",
        "query_row_index = 0  # Index of the query to process\n",
        "query_vector = queries.iloc[query_row_index, 1:].values  # Extract a single query vector\n",
        "similarity_scores = compute_manhattan_distance(query_vector, document_vectors)\n",
        "\n",
        "# Map the results back to document identifiers\n",
        "document_ids = documentos.iloc[:, 0]  # Assuming the first column contains document identifiers\n",
        "results = pd.DataFrame({\n",
        "    'Document ID': document_ids,\n",
        "    'Distance': similarity_scores\n",
        "})\n",
        "\n",
        "# Display the top 5 matches\n",
        "top_matches = results.nsmallest(5, 'Distance')\n",
        "print(top_matches)"
      ],
      "metadata": {
        "colab": {
          "base_uri": "https://localhost:8080/"
        },
        "id": "_USDn61jEWR3",
        "outputId": "d4c749c9-d148-4d71-d761-36efc665155d"
      },
      "execution_count": 28,
      "outputs": [
        {
          "output_type": "stream",
          "name": "stdout",
          "text": [
            "                               Document ID   Distance\n",
            "54   127_Laboratorio_de_Creacion_2.txt.txt  28.975675\n",
            "181           139_Taller_de_Arte_3.txt.txt  30.174610\n",
            "65    118_Fundamentos_de_las_Artes.txt.txt  31.217224\n",
            "25        119_Composicion_Visual_1.txt.txt  32.237601\n",
            "160  136_Laboratorio_de_Creacion_3.txt.txt  32.936388\n"
          ]
        }
      ]
    },
    {
      "cell_type": "code",
      "source": [
        "# Example: Compute similarity for one query row\n",
        "query_row_index = 1  # Index of the query to process\n",
        "query_vector = queries.iloc[query_row_index, 1:].values  # Extract a single query vector\n",
        "similarity_scores = compute_manhattan_distance(query_vector, document_vectors)\n",
        "\n",
        "# Map the results back to document identifiers\n",
        "document_ids = documentos.iloc[:, 0]  # Assuming the first column contains document identifiers\n",
        "results = pd.DataFrame({\n",
        "    'Document ID': document_ids,\n",
        "    'Distance': similarity_scores\n",
        "})\n",
        "\n",
        "# Display the top 5 matches\n",
        "top_matches = results.nsmallest(5, 'Distance')\n",
        "print(top_matches)"
      ],
      "metadata": {
        "colab": {
          "base_uri": "https://localhost:8080/"
        },
        "id": "xqlfv7x3EaPd",
        "outputId": "27c87890-9370-4e3c-f8fa-9a79f727d5d7"
      },
      "execution_count": 29,
      "outputs": [
        {
          "output_type": "stream",
          "name": "stdout",
          "text": [
            "                               Document ID   Distance\n",
            "25        119_Composicion_Visual_1.txt.txt  27.939393\n",
            "54   127_Laboratorio_de_Creacion_2.txt.txt  28.391984\n",
            "65    118_Fundamentos_de_las_Artes.txt.txt  28.931741\n",
            "181           139_Taller_de_Arte_3.txt.txt  31.590919\n",
            "40      102_Principios_de_Finanzas.txt.txt  32.142922\n"
          ]
        }
      ]
    },
    {
      "cell_type": "code",
      "source": [
        "# Example: Compute similarity for one query row\n",
        "query_row_index = 2  # Index of the query to process\n",
        "query_vector = queries.iloc[query_row_index, 1:].values  # Extract a single query vector\n",
        "similarity_scores = compute_manhattan_distance(query_vector, document_vectors)\n",
        "\n",
        "# Map the results back to document identifiers\n",
        "document_ids = documentos.iloc[:, 0]  # Assuming the first column contains document identifiers\n",
        "results = pd.DataFrame({\n",
        "    'Document ID': document_ids,\n",
        "    'Distance': similarity_scores\n",
        "})\n",
        "\n",
        "# Display the top 5 matches\n",
        "top_matches = results.nsmallest(5, 'Distance')\n",
        "print(top_matches)"
      ],
      "metadata": {
        "colab": {
          "base_uri": "https://localhost:8080/"
        },
        "id": "_7OXMdyVEbGr",
        "outputId": "092cb15d-615c-4e56-973e-025fb2f6a991"
      },
      "execution_count": 30,
      "outputs": [
        {
          "output_type": "stream",
          "name": "stdout",
          "text": [
            "                               Document ID   Distance\n",
            "25        119_Composicion_Visual_1.txt.txt  29.939393\n",
            "108        108_Economia_y_Negocios.txt.txt  30.384323\n",
            "54   127_Laboratorio_de_Creacion_2.txt.txt  30.391984\n",
            "65    118_Fundamentos_de_las_Artes.txt.txt  30.931741\n",
            "181           139_Taller_de_Arte_3.txt.txt  31.590919\n"
          ]
        }
      ]
    },
    {
      "cell_type": "code",
      "source": [
        "# Example: Compute similarity for one query row\n",
        "query_row_index = 3  # Index of the query to process\n",
        "query_vector = queries.iloc[query_row_index, 1:].values  # Extract a single query vector\n",
        "similarity_scores = compute_manhattan_distance(query_vector, document_vectors)\n",
        "\n",
        "# Map the results back to document identifiers\n",
        "document_ids = documentos.iloc[:, 0]  # Assuming the first column contains document identifiers\n",
        "results = pd.DataFrame({\n",
        "    'Document ID': document_ids,\n",
        "    'Distance': similarity_scores\n",
        "})\n",
        "\n",
        "# Display the top 5 matches\n",
        "top_matches = results.nsmallest(5, 'Distance')\n",
        "print(top_matches)"
      ],
      "metadata": {
        "colab": {
          "base_uri": "https://localhost:8080/"
        },
        "id": "TBO0t0isEdN6",
        "outputId": "7fff2e80-2739-4cfa-a58b-889eb58d04aa"
      },
      "execution_count": 31,
      "outputs": [
        {
          "output_type": "stream",
          "name": "stdout",
          "text": [
            "                               Document ID   Distance\n",
            "65    118_Fundamentos_de_las_Artes.txt.txt  27.931741\n",
            "25        119_Composicion_Visual_1.txt.txt  29.237601\n",
            "108        108_Economia_y_Negocios.txt.txt  29.682531\n",
            "54   127_Laboratorio_de_Creacion_2.txt.txt  29.690192\n",
            "181           139_Taller_de_Arte_3.txt.txt  30.889127\n"
          ]
        }
      ]
    },
    {
      "cell_type": "code",
      "source": [
        "# Example: Compute similarity for one query row\n",
        "query_row_index = 4  # Index of the query to process\n",
        "query_vector = queries.iloc[query_row_index, 1:].values  # Extract a single query vector\n",
        "similarity_scores = compute_manhattan_distance(query_vector, document_vectors)\n",
        "\n",
        "# Map the results back to document identifiers\n",
        "document_ids = documentos.iloc[:, 0]  # Assuming the first column contains document identifiers\n",
        "results = pd.DataFrame({\n",
        "    'Document ID': document_ids,\n",
        "    'Distance': similarity_scores\n",
        "})\n",
        "\n",
        "# Display the top 5 matches\n",
        "top_matches = results.nsmallest(5, 'Distance')\n",
        "print(top_matches)"
      ],
      "metadata": {
        "colab": {
          "base_uri": "https://localhost:8080/"
        },
        "id": "ZOZx7YIpEeYS",
        "outputId": "15f154ff-32f6-428c-8865-2c9e23a60049"
      },
      "execution_count": 32,
      "outputs": [
        {
          "output_type": "stream",
          "name": "stdout",
          "text": [
            "                               Document ID   Distance\n",
            "54   127_Laboratorio_de_Creacion_2.txt.txt  31.690192\n",
            "92      137_Matematicas_Cotidianas.txt.txt  32.282556\n",
            "181           139_Taller_de_Arte_3.txt.txt  32.889127\n",
            "25        119_Composicion_Visual_1.txt.txt  33.237601\n",
            "168              103_Coloquios_adm.txt.txt  33.629278\n"
          ]
        }
      ]
    }
  ]
}