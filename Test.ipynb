{
  "nbformat": 4,
  "nbformat_minor": 0,
  "metadata": {
    "colab": {
      "provenance": []
    },
    "kernelspec": {
      "name": "python3",
      "display_name": "Python 3"
    },
    "language_info": {
      "name": "python"
    }
  },
  "cells": [
    {
      "cell_type": "markdown",
      "source": [
        "# Tf_idf #"
      ],
      "metadata": {
        "id": "KetaifaQrUAr"
      }
    },
    {
      "cell_type": "code",
      "execution_count": 2,
      "metadata": {
        "id": "MJ46EHJ_maZg"
      },
      "outputs": [],
      "source": [
        "# prompt: read and save two csv files as df\n",
        "\n",
        "import pandas as pd\n",
        "\n",
        "documentos = pd.read_csv(\"/content/tf_idf_documentos.csv\") #replace file1.csv with your actual file name\n",
        "queries = pd.read_csv(\"/content/queries_vector.csv\") #replace file2.csv with your actual file name"
      ]
    },
    {
      "cell_type": "code",
      "source": [
        "import pandas as pd\n",
        "from sklearn.metrics.pairwise import cosine_similarity\n",
        "\n",
        "def compute_cosine_similarity(query_vector, document_vectors):\n",
        "    \"\"\"\n",
        "    Computes cosine similarity between a single query vector and all document vectors.\n",
        "\n",
        "    Args:\n",
        "        query_vector (list or array): A single query vector.\n",
        "        document_vectors (array): Matrix of document vectors.\n",
        "\n",
        "    Returns:\n",
        "        list: Cosine similarity scores between the query and each document.\n",
        "    \"\"\"\n",
        "    query_vector = query_vector.reshape(1, -1)  # Reshape for compatibility\n",
        "    similarities = cosine_similarity(query_vector, document_vectors)\n",
        "    return similarities[0]  # Extract the scores as a flat list"
      ],
      "metadata": {
        "id": "pcG3Upaxtp6n"
      },
      "execution_count": 3,
      "outputs": []
    },
    {
      "cell_type": "code",
      "source": [
        "# Extract document vectors (numeric columns only)\n",
        "document_vectors = documentos.iloc[:, 1:].values  # Adjust indices as needed\n",
        "\n",
        "# Example: Compute similarity for one query row\n",
        "query_row_index = 0  # Index of the query to process\n",
        "query_vector = queries.iloc[query_row_index, 1:].values  # Extract a single query vector\n",
        "similarity_scores = compute_cosine_similarity(query_vector, document_vectors)\n",
        "\n",
        "# Map the results back to document identifiers\n",
        "document_ids = documentos.iloc[:, 0]  # Assuming the first column contains document identifiers\n",
        "results = pd.DataFrame({\n",
        "    'Document ID': document_ids,\n",
        "    'Similarity Score': similarity_scores\n",
        "})\n",
        "\n",
        "# Display the top 5 matches\n",
        "top_matches = results.nlargest(5, 'Similarity Score')\n",
        "print(top_matches)"
      ],
      "metadata": {
        "colab": {
          "base_uri": "https://localhost:8080/"
        },
        "id": "BCUdhRmavJLV",
        "outputId": "3bb6433f-5625-4de5-8b77-b0acf08f76ab"
      },
      "execution_count": 4,
      "outputs": [
        {
          "output_type": "stream",
          "name": "stdout",
          "text": [
            "                                Document ID  Similarity Score\n",
            "124  145_Programacion_Para_Diseño_3.txt.txt          0.305506\n",
            "60   53_Conceptos_y_Tecnicas_2_+PRA.txt.txt          0.291296\n",
            "84          61_Alta_Cocina_Francesa.txt.txt          0.277918\n",
            "12           65_Alta_Cocina_Mundial.txt.txt          0.260186\n",
            "165  144_Programacion_Para_Diseño_2.txt.txt          0.249085\n"
          ]
        }
      ]
    },
    {
      "cell_type": "code",
      "source": [
        "# Example: Compute similarity for one query row\n",
        "query_row_index = 1  # Index of the query to process\n",
        "query_vector = queries.iloc[query_row_index, 1:].values  # Extract a single query vector\n",
        "similarity_scores = compute_cosine_similarity(query_vector, document_vectors)\n",
        "\n",
        "# Map the results back to document identifiers\n",
        "document_ids = documentos.iloc[:, 0]  # Assuming the first column contains document identifiers\n",
        "results = pd.DataFrame({\n",
        "    'Document ID': document_ids,\n",
        "    'Similarity Score': similarity_scores\n",
        "})\n",
        "\n",
        "# Display the top 5 matches\n",
        "top_matches = results.nlargest(5, 'Similarity Score')\n",
        "print(top_matches)"
      ],
      "metadata": {
        "colab": {
          "base_uri": "https://localhost:8080/"
        },
        "id": "j0-c85K4v1H9",
        "outputId": "f7270541-0505-43b9-db4d-03e8eabd5689"
      },
      "execution_count": 5,
      "outputs": [
        {
          "output_type": "stream",
          "name": "stdout",
          "text": [
            "                             Document ID  Similarity Score\n",
            "159              172_Composicion.txt.txt          0.240568\n",
            "174           177_Cinematografia.txt.txt          0.176312\n",
            "80             12_Ingles_Nivel_3.txt.txt          0.149912\n",
            "13   110_Creatividad_Empresarial.txt.txt          0.148795\n",
            "25      119_Composicion_Visual_1.txt.txt          0.134833\n"
          ]
        }
      ]
    },
    {
      "cell_type": "code",
      "source": [
        "# Example: Compute similarity for one query row\n",
        "query_row_index = 2  # Index of the query to process\n",
        "query_vector = queries.iloc[query_row_index, 1:].values  # Extract a single query vector\n",
        "similarity_scores = compute_cosine_similarity(query_vector, document_vectors)\n",
        "\n",
        "# Map the results back to document identifiers\n",
        "document_ids = documentos.iloc[:, 0]  # Assuming the first column contains document identifiers\n",
        "results = pd.DataFrame({\n",
        "    'Document ID': document_ids,\n",
        "    'Similarity Score': similarity_scores\n",
        "})\n",
        "\n",
        "# Display the top 5 matches\n",
        "top_matches = results.nlargest(5, 'Similarity Score')\n",
        "print(top_matches)"
      ],
      "metadata": {
        "colab": {
          "base_uri": "https://localhost:8080/"
        },
        "id": "8HbtofVjv7XE",
        "outputId": "bf596133-3d27-4a2e-b027-91361ddd81fc"
      },
      "execution_count": 6,
      "outputs": [
        {
          "output_type": "stream",
          "name": "stdout",
          "text": [
            "                                 Document ID  Similarity Score\n",
            "173                19_Ingles_Nivel_5.txt.txt          0.226367\n",
            "104  75_Planificacion_y_Evaluacion_1.txt.txt          0.184556\n",
            "79                     93_Practica_4.txt.txt          0.139695\n",
            "87                   86_Bilingualism.txt.txt          0.139364\n",
            "11                  7_Ingles_Nivel_2.txt.txt          0.136379\n"
          ]
        }
      ]
    },
    {
      "cell_type": "code",
      "source": [
        "# Example: Compute similarity for one query row\n",
        "query_row_index = 3  # Index of the query to process\n",
        "query_vector = queries.iloc[query_row_index, 1:].values  # Extract a single query vector\n",
        "similarity_scores = compute_cosine_similarity(query_vector, document_vectors)\n",
        "\n",
        "# Map the results back to document identifiers\n",
        "document_ids = documentos.iloc[:, 0]  # Assuming the first column contains document identifiers\n",
        "results = pd.DataFrame({\n",
        "    'Document ID': document_ids,\n",
        "    'Similarity Score': similarity_scores\n",
        "})\n",
        "\n",
        "# Display the top 5 matches\n",
        "top_matches = results.nlargest(5, 'Similarity Score')\n",
        "print(top_matches)"
      ],
      "metadata": {
        "colab": {
          "base_uri": "https://localhost:8080/"
        },
        "id": "SghHx0yOv9xM",
        "outputId": "5baa2a3a-c3a6-4e70-9298-a63432fa5cc7"
      },
      "execution_count": 7,
      "outputs": [
        {
          "output_type": "stream",
          "name": "stdout",
          "text": [
            "                                 Document ID  Similarity Score\n",
            "5         34_Inteligencia_Artificial.txt.txt          0.200703\n",
            "2                  32_Emprendimiento.txt.txt          0.181094\n",
            "8   89_Ensenanza_Integrada_de_CITIAM.txt.txt          0.172648\n",
            "33                 125_Nuevos_Medios.txt.txt          0.138470\n",
            "13       110_Creatividad_Empresarial.txt.txt          0.113711\n"
          ]
        }
      ]
    },
    {
      "cell_type": "code",
      "source": [
        "# Example: Compute similarity for one query row\n",
        "query_row_index = 4  # Index of the query to process\n",
        "query_vector = queries.iloc[query_row_index, 1:].values  # Extract a single query vector\n",
        "similarity_scores = compute_cosine_similarity(query_vector, document_vectors)\n",
        "\n",
        "# Map the results back to document identifiers\n",
        "document_ids = documentos.iloc[:, 0]  # Assuming the first column contains document identifiers\n",
        "results = pd.DataFrame({\n",
        "    'Document ID': document_ids,\n",
        "    'Similarity Score': similarity_scores\n",
        "})\n",
        "\n",
        "# Display the top 5 matches\n",
        "top_matches = results.nlargest(5, 'Similarity Score')\n",
        "print(top_matches)"
      ],
      "metadata": {
        "colab": {
          "base_uri": "https://localhost:8080/"
        },
        "id": "nSsDKL5vv_XU",
        "outputId": "a0620d84-fd3f-4012-b6a1-972edb6f0cb9"
      },
      "execution_count": 10,
      "outputs": [
        {
          "output_type": "stream",
          "name": "stdout",
          "text": [
            "                                  Document ID  Similarity Score\n",
            "42                85_Arte_y_Educacion.txt.txt          0.247833\n",
            "92         137_Matematicas_Cotidianas.txt.txt          0.242965\n",
            "9    155_Logica_y_Teoria_de_Conjuntos.txt.txt          0.205652\n",
            "50  135_Gestion_y_Produccion_Cultural.txt.txt          0.189135\n",
            "72        83_Ensenanza_de_Matematicas.txt.txt          0.183966\n"
          ]
        }
      ]
    }
  ]
}